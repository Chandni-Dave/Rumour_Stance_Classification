{
 "cells": [
  {
   "cell_type": "markdown",
   "metadata": {},
   "source": [
    "### Implementation of Random Forest, SVM and Logistic Regression"
   ]
  },
  {
   "cell_type": "markdown",
   "metadata": {},
   "source": [
    "#### Importing required libraries"
   ]
  },
  {
   "cell_type": "code",
   "execution_count": 1,
   "metadata": {},
   "outputs": [],
   "source": [
    "import os, sys\n",
    "import pickle\n",
    "import json\n",
    "# from sklearn.naive_bayes import MultinomialNB as nb\n",
    "from sklearn.linear_model import SGDClassifier as svm\n",
    "import numpy as np\n",
    "from sklearn.metrics import confusion_matrix\n",
    "from sklearn.metrics import precision_recall_fscore_support\n",
    "from sklearn.metrics import classification_report, accuracy_score, confusion_matrix\n",
    "from sklearn.linear_model import LogisticRegression"
   ]
  },
  {
   "cell_type": "markdown",
   "metadata": {},
   "source": [
    "#### Reading train and test dataset"
   ]
  },
  {
   "cell_type": "code",
   "execution_count": 2,
   "metadata": {},
   "outputs": [],
   "source": [
    "cwd = os.getcwd() #Current working directory\n",
    "\n",
    "#Read training data\n",
    "f = open(os.path.join(cwd, r'train.pkl'), 'rb')\n",
    "(X_data, X_label) = pickle.load(f)\n",
    "f.close()\n",
    "\n",
    "#Read test data\n",
    "f = open(os.path.join(cwd, r'test.pkl'), 'rb')\n",
    "(Y_data, Y_label) = pickle.load(f)\n",
    "f.close()\n",
    "\n",
    "train = []\n",
    "trainLabel = []\n",
    "\n",
    "label2no = {u'supporting':0, u'querying':1, u'denying':2, u'comment':3}\n",
    "\n",
    "#Convert list of lists to nd array (Required for SVM Training)\n",
    "for key in X_label.keys():\n",
    "    train.append(X_data[key])\n",
    "    trainLabel.append(label2no[X_label[key]])\n",
    "\n",
    "train = np.array(train)\n",
    "trainLabel = np.array(trainLabel)\n",
    "\n",
    "test = []\n",
    "testLabel = []\n",
    "\n",
    "for key in Y_label.keys():\n",
    "    test.append(Y_data[key])\n",
    "    testLabel.append(label2no[Y_label[key]])\n",
    "\n",
    "test = np.array(test)\n",
    "testLabel = np.array(testLabel)\n"
   ]
  },
  {
   "cell_type": "markdown",
   "metadata": {},
   "source": [
    "### sklearn RandomForest Implementation and results"
   ]
  },
  {
   "cell_type": "code",
   "execution_count": 3,
   "metadata": {},
   "outputs": [
    {
     "name": "stderr",
     "output_type": "stream",
     "text": [
      "C:\\Users\\Chandni Dave\\Anaconda3\\lib\\site-packages\\sklearn\\ensemble\\forest.py:245: FutureWarning: The default value of n_estimators will change from 10 in version 0.20 to 100 in 0.22.\n",
      "  \"10 in version 0.20 to 100 in 0.22.\", FutureWarning)\n"
     ]
    },
    {
     "name": "stdout",
     "output_type": "stream",
     "text": [
      "\n",
      "Random forest Result\n",
      "\n",
      "Classification accuracy:  0.6352313167259787\n",
      "Confusion matrix:  [[ 89   0   7 129]\n",
      " [ 11   7   1  80]\n",
      " [ 14   0   2  71]\n",
      " [ 74  10  13 616]]\n",
      "              precision    recall  f1-score   support\n",
      "\n",
      "  supporting       0.47      0.40      0.43       225\n",
      "    querying       0.41      0.07      0.12        99\n",
      "     denying       0.09      0.02      0.04        87\n",
      "     comment       0.69      0.86      0.77       713\n",
      "\n",
      "    accuracy                           0.64      1124\n",
      "   macro avg       0.41      0.34      0.34      1124\n",
      "weighted avg       0.57      0.64      0.59      1124\n",
      "\n",
      "63.52313167259786\n"
     ]
    }
   ],
   "source": [
    "from sklearn.ensemble import RandomForestClassifier\n",
    "\n",
    "rf = RandomForestClassifier()\n",
    "\n",
    "rf_cls = rf.fit(train, trainLabel.transpose())\n",
    "y_pred = rf_cls.predict(test)\n",
    "\n",
    "print(\"\\nRandom forest Result\\n\")\n",
    "print(\"Classification accuracy: \", accuracy_score(testLabel, y_pred))\n",
    "\n",
    "print(\"Confusion matrix: \", confusion_matrix(testLabel, y_pred))\n",
    "target_names = ['supporting', 'querying', 'denying', 'comment']\n",
    "print(classification_report(testLabel, y_pred, target_names=target_names))\n",
    "#Accuracy\n",
    "print(np.mean(y_pred == testLabel)*100)"
   ]
  },
  {
   "cell_type": "markdown",
   "metadata": {},
   "source": [
    "### sklearn SVM implementation and result"
   ]
  },
  {
   "cell_type": "code",
   "execution_count": 35,
   "metadata": {},
   "outputs": [
    {
     "name": "stdout",
     "output_type": "stream",
     "text": [
      "\n",
      "SVM Result\n",
      "\n",
      "Classification accuracy:  0.6209964412811388\n",
      "Confusion matrix:  [[ 90   3   6 126]\n",
      " [  2  21  12  64]\n",
      " [  5   6   5  71]\n",
      " [ 57  24  50 582]]\n",
      "              precision    recall  f1-score   support\n",
      "\n",
      "  supporting       0.58      0.40      0.47       225\n",
      "    querying       0.39      0.21      0.27        99\n",
      "     denying       0.07      0.06      0.06        87\n",
      "     comment       0.69      0.82      0.75       713\n",
      "\n",
      "    accuracy                           0.62      1124\n",
      "   macro avg       0.43      0.37      0.39      1124\n",
      "weighted avg       0.59      0.62      0.60      1124\n",
      "\n",
      "62.09964412811389\n"
     ]
    }
   ],
   "source": [
    "#SVM Training\n",
    "svm_clf = svm(loss='squared_hinge', max_iter=1000).fit(train, trainLabel.transpose())\n",
    "\n",
    "#SVM Testing\n",
    "print (\"\\nSVM Result\\n\")\n",
    "predicted = svm_clf.predict(test)\n",
    "print(\"Classification accuracy: \", accuracy_score(testLabel, predicted))\n",
    "print(\"Confusion matrix: \", confusion_matrix(testLabel, predicted))\n",
    "target_names = ['supporting', 'querying', 'denying', 'comment']\n",
    "print(classification_report(testLabel, predicted, target_names=target_names))\n",
    "\n",
    "#Accuracy\n",
    "print(np.mean(predicted == testLabel)*100)"
   ]
  },
  {
   "cell_type": "markdown",
   "metadata": {},
   "source": [
    "#### sklearn Logistic Regression and results"
   ]
  },
  {
   "cell_type": "code",
   "execution_count": 36,
   "metadata": {},
   "outputs": [
    {
     "name": "stdout",
     "output_type": "stream",
     "text": [
      "\n",
      "\n",
      "\n",
      "LR Result\n",
      "Classification accuracy:  0.699288256227758\n",
      "Confusion matrix:  [[ 98   1   1 125]\n",
      " [  3  30   1  65]\n",
      " [  8   7   0  72]\n",
      " [ 24  25   6 658]]\n",
      "              precision    recall  f1-score   support\n",
      "\n",
      "  supporting       0.74      0.44      0.55       225\n",
      "    querying       0.48      0.30      0.37        99\n",
      "     denying       0.00      0.00      0.00        87\n",
      "     comment       0.72      0.92      0.81       713\n",
      "\n",
      "    accuracy                           0.70      1124\n",
      "   macro avg       0.48      0.42      0.43      1124\n",
      "weighted avg       0.64      0.70      0.65      1124\n",
      "\n",
      "69.9288256227758\n"
     ]
    },
    {
     "name": "stderr",
     "output_type": "stream",
     "text": [
      "C:\\Users\\Chandni Dave\\Anaconda3\\lib\\site-packages\\sklearn\\linear_model\\logistic.py:947: ConvergenceWarning: lbfgs failed to converge. Increase the number of iterations.\n",
      "  \"of iterations.\", ConvergenceWarning)\n"
     ]
    }
   ],
   "source": [
    "\n",
    "clf = LogisticRegression(random_state=0, solver='lbfgs',\n",
    "                          multi_class='multinomial').fit(train, trainLabel.transpose())\n",
    "\n",
    "#LR Testing\n",
    "print (\"\\n\\n\\nLR Result\")\n",
    "predicted = clf.predict(test)\n",
    "print(\"Classification accuracy: \", accuracy_score(testLabel, predicted))\n",
    "print(\"Confusion matrix: \", confusion_matrix(testLabel, predicted))\n",
    "target_names = ['supporting', 'querying', 'denying', 'comment']\n",
    "print(classification_report(testLabel, predicted, target_names=target_names))\n",
    "\n",
    "#Accuracy\n",
    "print(np.mean(predicted == testLabel)*100)"
   ]
  },
  {
   "cell_type": "code",
   "execution_count": null,
   "metadata": {},
   "outputs": [],
   "source": []
  },
  {
   "cell_type": "code",
   "execution_count": null,
   "metadata": {},
   "outputs": [],
   "source": []
  }
 ],
 "metadata": {
  "kernelspec": {
   "display_name": "Python 3",
   "language": "python",
   "name": "python3"
  },
  "language_info": {
   "codemirror_mode": {
    "name": "ipython",
    "version": 3
   },
   "file_extension": ".py",
   "mimetype": "text/x-python",
   "name": "python",
   "nbconvert_exporter": "python",
   "pygments_lexer": "ipython3",
   "version": "3.7.3"
  }
 },
 "nbformat": 4,
 "nbformat_minor": 2
}
