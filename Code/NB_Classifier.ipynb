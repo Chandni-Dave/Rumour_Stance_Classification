{
 "cells": [
  {
   "cell_type": "markdown",
   "metadata": {},
   "source": [
    "### Multinomial Naive Bayes Classifier"
   ]
  },
  {
   "cell_type": "code",
   "execution_count": 1,
   "metadata": {},
   "outputs": [],
   "source": [
    "# importing important libraries\n",
    "import os, sys\n",
    "import pickle\n",
    "import json\n",
    "from sklearn.naive_bayes import MultinomialNB as nb\n",
    "import numpy as np\n",
    "from sklearn.metrics import confusion_matrix\n",
    "from sklearn.metrics import precision_recall_fscore_support\n",
    "from sklearn.metrics import classification_report, accuracy_score, confusion_matrix"
   ]
  },
  {
   "cell_type": "markdown",
   "metadata": {},
   "source": [
    "#### Reading train and test data"
   ]
  },
  {
   "cell_type": "code",
   "execution_count": 2,
   "metadata": {},
   "outputs": [],
   "source": [
    "cwd = os.getcwd() #Current working directory\n",
    "\n",
    "#Read training data\n",
    "f = open(os.path.join(cwd, r'train.pkl'), 'rb')\n",
    "(X_data, X_label) = pickle.load(f)\n",
    "f.close()\n",
    "\n",
    "#Read test data\n",
    "f = open(os.path.join(cwd, r'test.pkl'), 'rb')\n",
    "(Y_data, Y_label) = pickle.load(f)\n",
    "f.close()\n",
    "\n",
    "train = []\n",
    "trainLabel = []\n",
    "\n",
    "label2no = {u'supporting':0, u'querying':1, u'denying':2, u'comment':3}\n",
    "\n",
    "#Convert list of lists to nd array (Training dataset)\n",
    "for key in X_label.keys():\n",
    "    train.append(X_data[key])\n",
    "    trainLabel.append(label2no[X_label[key]])\n",
    "\n",
    "train = np.array(train)\n",
    "trainLabel = np.array(trainLabel)\n",
    "min1 = train.min()\n",
    "# print (min1)\n",
    "for i in range(len(train)):\n",
    "    for j in range(len(train[i])):\n",
    "        train[i][j] = train[i][j] + abs(min1) \n",
    "\n",
    "#Naive Bayes Classifier Training\n",
    "nb_clf = nb().fit(train, trainLabel.transpose())\n",
    "\n",
    "#Convert list of lists to nd array (Testing dataset)\n",
    "test = []\n",
    "testLabel = []\n",
    "\n",
    "for key in Y_label.keys():\n",
    "    test.append(Y_data[key])\n",
    "    testLabel.append(label2no[Y_label[key]])\n",
    "\n",
    "test = np.array(test)\n",
    "testLabel = np.array(testLabel)\n",
    "min1 = test.min()\n",
    "for i in range(len(test)):\n",
    "    for j in range(len(test[i])):\n",
    "        test[i][j] += min1\n"
   ]
  },
  {
   "cell_type": "markdown",
   "metadata": {},
   "source": [
    "#### NB classification results"
   ]
  },
  {
   "cell_type": "code",
   "execution_count": 3,
   "metadata": {},
   "outputs": [
    {
     "name": "stdout",
     "output_type": "stream",
     "text": [
      "Classification accuracy:  0.6850533807829181\n",
      "Confusion matrix:  [[123   0   0 102]\n",
      " [  6   0   0  93]\n",
      " [ 12   0   0  75]\n",
      " [ 66   0   0 647]]\n",
      "              precision    recall  f1-score   support\n",
      "\n",
      "  supporting       0.59      0.55      0.57       225\n",
      "    querying       0.00      0.00      0.00        99\n",
      "     denying       0.00      0.00      0.00        87\n",
      "     comment       0.71      0.91      0.79       713\n",
      "\n",
      "    accuracy                           0.69      1124\n",
      "   macro avg       0.32      0.36      0.34      1124\n",
      "weighted avg       0.57      0.69      0.62      1124\n",
      "\n",
      "68.50533807829181\n"
     ]
    },
    {
     "name": "stderr",
     "output_type": "stream",
     "text": [
      "C:\\Users\\Chandni Dave\\Anaconda3\\lib\\site-packages\\sklearn\\metrics\\classification.py:1437: UndefinedMetricWarning: Precision and F-score are ill-defined and being set to 0.0 in labels with no predicted samples.\n",
      "  'precision', 'predicted', average, warn_for)\n"
     ]
    }
   ],
   "source": [
    "#Naive Bayes Classifier Testing\n",
    "predicted = nb_clf.predict(test)\n",
    "\n",
    "print(\"Classification accuracy: \", accuracy_score(testLabel, predicted))\n",
    "print(\"Confusion matrix: \", confusion_matrix(testLabel, predicted))\n",
    "target_names = ['supporting', 'querying', 'denying', 'comment']\n",
    "print(classification_report(testLabel, predicted, target_names=target_names))\n",
    "#Accuracy\n",
    "print(np.mean(predicted == testLabel)*100)"
   ]
  },
  {
   "cell_type": "code",
   "execution_count": null,
   "metadata": {},
   "outputs": [],
   "source": []
  },
  {
   "cell_type": "code",
   "execution_count": null,
   "metadata": {},
   "outputs": [],
   "source": []
  },
  {
   "cell_type": "code",
   "execution_count": null,
   "metadata": {},
   "outputs": [],
   "source": []
  },
  {
   "cell_type": "code",
   "execution_count": null,
   "metadata": {},
   "outputs": [],
   "source": []
  }
 ],
 "metadata": {
  "kernelspec": {
   "display_name": "Python 3",
   "language": "python",
   "name": "python3"
  },
  "language_info": {
   "codemirror_mode": {
    "name": "ipython",
    "version": 3
   },
   "file_extension": ".py",
   "mimetype": "text/x-python",
   "name": "python",
   "nbconvert_exporter": "python",
   "pygments_lexer": "ipython3",
   "version": "3.7.3"
  }
 },
 "nbformat": 4,
 "nbformat_minor": 2
}
